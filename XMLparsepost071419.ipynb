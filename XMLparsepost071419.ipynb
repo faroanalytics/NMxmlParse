{
 "cells": [
  {
   "cell_type": "code",
   "execution_count": null,
   "metadata": {},
   "outputs": [],
   "source": [
    "import xml.etree.ElementTree as ET\n",
    "import pandas as pd\n",
    "import numpy as np"
   ]
  },
  {
   "cell_type": "code",
   "execution_count": null,
   "metadata": {},
   "outputs": [],
   "source": [
    "#################### Open the file and get an idea of what is inside.\n",
    "\n",
    "#################### These files have a sort of dictionary at the top and \n",
    "#################### you can see the pattern of the file all the way through\n",
    "\n",
    "with open('D:/NewMexicoData/OCDExport/T_WC.xml') as xmlf:\n",
    "    print(xmlf.read(1000))  #use a much larger number here - I am just keeping it small to fit on a page"
   ]
  },
  {
   "cell_type": "code",
   "execution_count": null,
   "metadata": {},
   "outputs": [],
   "source": [
    "#################### From the sizable list, we care about:\n",
    "#################### 'api_st_cde', 'api_cnty_cde', 'api_well_idn', 'dpth_perf_top_num', 'dpth_perf_btm_num'\n",
    "#################### api state code, api county code, api well id, initial perf, final perf"
   ]
  },
  {
   "cell_type": "code",
   "execution_count": null,
   "metadata": {},
   "outputs": [],
   "source": [
    "tree = ET.parse('D:/NewMexicoData/OCDExport/T_WC.xml')\n",
    "root = tree.getroot()"
   ]
  },
  {
   "cell_type": "code",
   "execution_count": null,
   "metadata": {},
   "outputs": [],
   "source": [
    "#################### Get all of your raw data from this loop\n",
    "\n",
    "apistdf = pd.DataFrame() \n",
    "apicntydf = pd.DataFrame() \n",
    "apiwelldf = pd.DataFrame() \n",
    "topdepth = pd.DataFrame() \n",
    "btmdepth= pd.DataFrame() \n",
    "APIstate, APIcounty, APIwellid, BTMdepth, TOPdepth = ([], [], [], [], [])\n",
    "vararrays = [APIstate, APIcounty, APIwellid, BTMdepth, TOPdepth]\n",
    "varnames = ['api_st_cde', 'api_cnty_cde', 'api_well_idn', 'dpth_perf_top_num', 'dpth_perf_btm_num']\n",
    "dfnames = [apistdf, apicntydf, apiwelldf, topdepth, btmdepth]\n",
    "\n",
    "for j in range(0, len(varnames)):    \n",
    "    for i in root.iter(varnames[j]):\n",
    "        a = (i.text)\n",
    "        vararrays[j] = np.append(vararrays[j], a)\n",
    "    dfnames[j] = pd.DataFrame(vararrays[j], columns = [varnames[j]])\n",
    "    \n",
    "Perfresult = pd.concat([dfnames[0],dfnames[1],dfnames[2],dfnames[3],dfnames[4]], axis=1)"
   ]
  },
  {
   "cell_type": "code",
   "execution_count": null,
   "metadata": {},
   "outputs": [],
   "source": [
    "#Perfresult.to_pickle('D:/NewMexicoData/Perfresult.pkl')  #<- Optional - use this to save your dataframe result somewhere\n",
    "Perfresult = pd.read_pickle(\"D:/NewMexicoData/Perfresult.pkl\", compression='infer') #<- to read that saved dataframe"
   ]
  },
  {
   "cell_type": "code",
   "execution_count": null,
   "metadata": {},
   "outputs": [],
   "source": [
    "pd.options.display.max_rows = 12 #<- Controls how many lines are shown when you run this cell\n",
    "Perfresult"
   ]
  },
  {
   "cell_type": "code",
   "execution_count": null,
   "metadata": {},
   "outputs": [],
   "source": [
    "#Calculates effective lateral length\n",
    "Perfresult = Perfresult.astype(int)\n",
    "Perfresult['perfdist'] = Perfresult['dpth_perf_btm_num'] - Perfresult['dpth_perf_top_num']\n",
    "Perfresult = Perfresult.sort_values(by = 'perfdist')\n",
    "\n",
    "#Drops wells above 17,000' in length (your call)\n",
    "Perfresult2 = Perfresult[Perfresult[\"perfdist\"]>=-17000]\n",
    "Perfresult2 = Perfresult2[Perfresult2[\"perfdist\"]<=17000]\n",
    "\n",
    "#Properly formats values to combine into full API number\n",
    "Perfresult2['api_cnty_cde'] = Perfresult2['api_cnty_cde'].apply(lambda x: '{0:0>3}'.format(x))\n",
    "Perfresult2['api_well_idn'] = Perfresult2['api_well_idn'].apply(lambda x: '{0:0>5}'.format(x))\n",
    "\n",
    "#Sets data type for each column\n",
    "Perfresult2[['api_cnty_cde', 'api_well_idn', 'api_st_cde']] = Perfresult2[['api_cnty_cde', 'api_well_idn', \n",
    "                                                                           'api_st_cde']].astype(str)\n",
    "Perfresult2[['dpth_perf_top_num', 'dpth_perf_btm_num', 'perfdist']] = Perfresult2[['dpth_perf_top_num', \n",
    "                                                                                   'dpth_perf_btm_num', \n",
    "                                                                                   'perfdist']].astype(float)\n",
    "\n",
    "Perfresult2['API'] = Perfresult2['api_st_cde'] + '-' + Perfresult2['api_cnty_cde'] + '-' + Perfresult2['api_well_idn']\n",
    "Perfresult3 = Perfresult2[['API', 'dpth_perf_top_num', 'dpth_perf_btm_num', 'perfdist']]"
   ]
  },
  {
   "cell_type": "code",
   "execution_count": null,
   "metadata": {},
   "outputs": [],
   "source": [
    "#Accounts for reversal of top and bottom perf data entry from state data\n",
    "Perfresult3 = Perfresult3.reset_index(drop = True)\n",
    "Perfresult3['FinalPerfDist'] = [((Perfresult3['perfdist'].iloc[x])*-1) if ((Perfresult3['perfdist'].iloc[x])<0) else \n",
    "                            (Perfresult3['perfdist'].iloc[x]) for x in range(0, len(Perfresult3))]\n",
    "Perfresult3"
   ]
  },
  {
   "cell_type": "code",
   "execution_count": null,
   "metadata": {},
   "outputs": [],
   "source": [
    "#Get an idea of how many wells have a certain measurment for the depth of the top perf\n",
    "Perfresult3.sort_values(by=\"dpth_perf_top_num\", ascending = False)\n",
    "Perfcheck = pd.value_counts(Perfresult3[\"dpth_perf_top_num\"])\n",
    "Perfcheck"
   ]
  },
  {
   "cell_type": "code",
   "execution_count": null,
   "metadata": {},
   "outputs": [],
   "source": []
  }
 ],
 "metadata": {
  "kernelspec": {
   "display_name": "Python 3",
   "language": "python",
   "name": "python3"
  },
  "language_info": {
   "codemirror_mode": {
    "name": "ipython",
    "version": 3
   },
   "file_extension": ".py",
   "mimetype": "text/x-python",
   "name": "python",
   "nbconvert_exporter": "python",
   "pygments_lexer": "ipython3",
   "version": "3.7.1"
  }
 },
 "nbformat": 4,
 "nbformat_minor": 2
}
