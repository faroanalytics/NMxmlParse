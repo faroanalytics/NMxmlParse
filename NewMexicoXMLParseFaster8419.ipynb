{
 "cells": [
  {
   "cell_type": "code",
   "execution_count": null,
   "metadata": {},
   "outputs": [],
   "source": [
    "from collections import defaultdict\n",
    "import json\n",
    "import sys\n",
    "import xml.etree.ElementTree as ET\n",
    "import pandas as pd\n",
    "import numpy as np\n",
    "from pandas.io.json import json_normalize\n",
    "import glob\n",
    "import re\n",
    "\n",
    "finalNMProd = pd.DataFrame()\n",
    "path = \"D:/NewMexicoData/T_WC_VOL_TO_2007\"\n",
    "all_files = glob.glob(path + \"/*.xml\")\n",
    "\n",
    "for file_name in all_files:\n",
    "\n",
    "    def parse_xml(file_name):\n",
    "        events = (\"start\", \"end\")\n",
    "        context = ET.iterparse(file_name, events=events)\n",
    "\n",
    "        return pt(context)\n",
    "\n",
    "    def pt(context, cur_elem=None):\n",
    "        items = defaultdict(list)\n",
    "\n",
    "        if cur_elem:\n",
    "            items.update(cur_elem.attrib)\n",
    "\n",
    "        text = \"\"\n",
    "\n",
    "        for action, elem in context:\n",
    "\n",
    "            if action == \"start\":\n",
    "                items[elem.tag].append(pt(context, elem))\n",
    "            elif action == \"end\":\n",
    "                text = elem.text.strip() if elem.text else \"\"\n",
    "                break\n",
    "\n",
    "        if len(items) == 0:\n",
    "            return text\n",
    "\n",
    "        return { k: v[0] if len(v) == 1 else v for k, v in items.items() }\n",
    "\n",
    "    if __name__ == \"__main__\":\n",
    "    \n",
    "        #json_data = parse_xml('D:/NewMexicoData/T_WC_VOL/T_WC_VOL_2014_TO_2015.xml')\n",
    "        json_data = parse_xml(file_name)\n",
    "    \n",
    "    filename2 = re.sub(r\"D:/NewMexicoData/T_WC_VOL_TO_2007\\\\\", \"\", file_name)\n",
    "    filename2 = re.sub(r\".xml\", \"\", filename2)\n",
    "    filename2 = filename2 + \".Table\"\n",
    "    json_data2 = json_normalize(json_data)\n",
    "    realjson = pd.DataFrame(json_data2[filename2].iloc[0])\n",
    "    realjson2 = realjson.to_dict(orient='records')\n",
    "    realjsondf = pd.DataFrame(realjson2)\n",
    "    finalNMProd = pd.concat([finalNMProd, realjsondf])"
   ]
  },
  {
   "cell_type": "code",
   "execution_count": null,
   "metadata": {},
   "outputs": [],
   "source": [
    "finalNMProd"
   ]
  },
  {
   "cell_type": "code",
   "execution_count": null,
   "metadata": {},
   "outputs": [],
   "source": [
    "finalNMProdoil = finalNMProd[finalNMProd['PRD_KND_CDE'] == \"O\"]\n",
    "finalNMProdgas = finalNMProd[finalNMProd['PRD_KND_CDE'] == \"G\"]\n",
    "finalNMProdwater = finalNMProd[finalNMProd['PRD_KND_CDE'] == \"W\"]"
   ]
  },
  {
   "cell_type": "code",
   "execution_count": null,
   "metadata": {},
   "outputs": [],
   "source": [
    "finalNMProdoil"
   ]
  },
  {
   "cell_type": "code",
   "execution_count": null,
   "metadata": {},
   "outputs": [],
   "source": []
  }
 ],
 "metadata": {
  "kernelspec": {
   "display_name": "Python 3",
   "language": "python",
   "name": "python3"
  },
  "language_info": {
   "codemirror_mode": {
    "name": "ipython",
    "version": 3
   },
   "file_extension": ".py",
   "mimetype": "text/x-python",
   "name": "python",
   "nbconvert_exporter": "python",
   "pygments_lexer": "ipython3",
   "version": "3.7.1"
  }
 },
 "nbformat": 4,
 "nbformat_minor": 2
}
